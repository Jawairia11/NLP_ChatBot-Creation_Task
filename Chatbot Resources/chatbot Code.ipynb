{
  "nbformat": 4,
  "nbformat_minor": 0,
  "metadata": {
    "colab": {
      "provenance": []
    },
    "kernelspec": {
      "display_name": "Python 3",
      "name": "python3"
    }
  },
  "cells": [
    {
      "cell_type": "markdown",
      "metadata": {
        "id": "Z_gXfoMdOEwV"
      },
      "source": [
        "# Notebook on creating a Chatbot in Python\n",
        "Chatbots are programs designed to make interactive conversation with their users, in natural language.\n",
        "\n",
        "This notebook will take you through the steps of creating a very basic chatbot in Python.\n",
        "\n",
        "\n",
        "\n",
        "\n"
      ]
    },
    {
      "cell_type": "markdown",
      "metadata": {
        "id": "a0JCAJnzrEUt"
      },
      "source": [
        "### \\* \\* \\* Note on Web Browsers \\* \\* \\*\n",
        "We have found out that this page (and probably most Google Colab notebooks) will not work on some web browsers.\n",
        "\n",
        "**Internet Explorer does not work with this page.**\n",
        "\n",
        "If you are using **Microsoft Edge**, this page *may* work if you update to a very new version, version 79 and up (although we haven't tested it). Versions before 79 *will not work*.\n",
        "\n",
        "We recommend that you use relatively new versions of the most popular browsers: **Firefox**, **Opera**, **Chrome**, **Safari**."
      ]
    },
    {
      "cell_type": "markdown",
      "metadata": {
        "id": "eFhGr5I2uw9Z"
      },
      "source": [
        "###Early Chatbots\n",
        "Early attempts at mimicking human conversation were inspired by Alan Turing's famous proposal (Turing, 1950) that a program that could converse (by typed text) with a human user in such a manner that it couldn't be distinguished from a human conversational partner, should be regarded as intelligent.\n",
        "\n",
        "The German/American computer scientist Joseph Weizenbaum developed a celebrated program known as ELIZA, which could be programmed to converse with users. One of ELIZA's configurations was intended by Weizenbaum to simulate the conversational turns taken by a Rogerian psychotherapist.\n",
        "\n",
        "The program was very popular with users, who were instructed to speak to it about their personal life. Weizenbaum was shocked to find that some users took the program into their confidence and divulged highly personal information, reacting to it much as if they were engaged in a real session of psychotherapy.\n",
        "\n",
        "In a paper describing the software, Weizenbaum (1966) explained the workings of ELIZA, and emphasized that the program achieved its success in conversation by simple tricks: matching words that the user entered against a set of predefined patterns or templates, and trivially manipulating the user's input to come up with an automated response.\n",
        "\n",
        "Some users reacted to ELIZA in such a way that it seemed they attributed understanding and empathy to the program. But as Weizenbaum pointed out, these qualities were illusory and were created in the mind of the user only."
      ]
    },
    {
      "cell_type": "markdown",
      "metadata": {
        "id": "ZZTRbV2pJulG"
      },
      "source": [
        "###Modern chatbots\n",
        "Today, chatbots are a widely adopted technology, with a focus on providing users with information, rather than conversation for its own sake. Chatbots are commonly employed, for example, as a cost-effective means of providing online customer service in many industries.\n",
        "\n",
        "The aim of creating programs that try to achieve human-level skills in conversation also persists. An annual competition known as the Loebner Prize awards a cash prize each year to the chatbot that produced the most human-like conversation, as determined by a panel of judges who interact in parallel chat sessions with human participants and each of the chatbots.\n",
        "\n",
        "In this notebook, we will attempt to write a chatbot that uses similar pattern-matching techniques to those used in early chatbots such as ELIZA."
      ]
    },
    {
      "cell_type": "markdown",
      "metadata": {
        "id": "jxCvWjHtQ6Cr"
      },
      "source": [
        "###Implementation\n",
        "In the rest of this notebook, we will be creating a chatbot, and adding more and more things for it to say. We have already created a program framework for you, to make it easy to add new patterns for the chatbot to recognise and respond to. All you have to do to set up this initial framework is to run the code cell directly below this paragraph. **Note that you must run this cell first in order to make the other examples work.**\n",
        "\n",
        "Our framework allows programmers to create a chatbot that responds to entered text with conversational replies. The user types in text at the keyboard and presses Enter, and the program responds with an answer, which is printed to the screen.\n",
        "\n",
        "How it works is that the text that the user types in is matched against a collection of stored **patterns**, each of which has an appropriate **response** associated with it. These patterns and responses are all specified by the programmer. If the program finds a text match among its stored patterns, it prints out the associated response. If no match is found, by default the program prints out the word `None` (but this behaviour can be changed).\n",
        "\n",
        "In our programming framework, we will make use of a Python function called `add_response`, which will allow us to add new patterns and responses to the chatbot. The examples below will show how to use this function.\n",
        "\n",
        "You don't need to know how the program works behind the scenes in order to use it, but for anyone who is interested, our program makes use of part of the Natural Language Toolkit (NLTK, https://www.nltk.org/), an open-source package of Python programs that are useful for natural language processing. NLTK has modules to facilitate many tasks such as syntactic parsing, classification of parts of speech, etc., but we will make use of one particular Python class named `Chat` in the `nltk.chat.util` package. (We haven't looked at the concept of classes in computer programming - but you can just think of it as a component that already exists, and that we can reuse in our own prgrams.) You can view the source code for `Chat` at https://www.nltk.org/_modules/nltk/chat/util.html. In this notebook, we have written some additional Python code that acts as a \"code wrapper\" around the original NLTK code, to make it a little easier to use.\n",
        "\n",
        "Please **start up the framework now** by running the code cell below. As always, you run the code by clicking on the \"Run Cell\" button to the left."
      ]
    },
    {
      "cell_type": "code",
      "metadata": {
        "id": "Jo-f74N5dOBD"
      },
      "source": [
        "import re\n",
        "import random\n",
        "\n",
        "from nltk.chat.util import Chat, reflections\n",
        "\n",
        "class FociChatbot(Chat):\n",
        "    def __init__(self):\n",
        "        super().__init__([], reflections)\n",
        "        p = self._pairs\n",
        "\n",
        "    def add(self, input, output):\n",
        "        if isinstance(output, str):\n",
        "            o = [output]\n",
        "        else:\n",
        "            o = output\n",
        "        self._pairs.append((re.compile(input, re.IGNORECASE), o))\n",
        "\n",
        "\n",
        "def add_response(input, output):\n",
        "    f.add(input, output)\n",
        "\n",
        "def converse():\n",
        "    f.converse()\n",
        "\n",
        "def respond(input):\n",
        "    print(f.respond(input))\n",
        "\n",
        "def reset():\n",
        "    global f\n",
        "    f = FociChatbot()\n",
        "\n",
        "\n",
        "f = FociChatbot()"
      ],
      "execution_count": null,
      "outputs": []
    },
    {
      "cell_type": "markdown",
      "metadata": {
        "id": "QCTdT_NUcAa8"
      },
      "source": [
        "The code above has defined some functions for us to use that allow us to create and test our bot.\n",
        "\n",
        "`add_response()` : with this function, we can add text patterns, and their corresponding responses, to the chatbot, one at a time.\n",
        "\n",
        "`converse()`: we can use this function to test out the chatbot. We can repeatedly enter in text, and receive the chatbot's replies. To terminate the conversation, we can simply type in the special word `quit`.\n",
        "\n",
        "`respond()`: use this function to test the response to just a single text input, rather than a complete conversation.\n",
        "\n",
        "`reset()`: use this function to reset the bot, deleting all the responses that have been added so far, and starting again."
      ]
    },
    {
      "cell_type": "markdown",
      "metadata": {
        "id": "hSBdQBw5d5OD"
      },
      "source": [
        "### A first example\n",
        "Now we will start to add patterns to our chatbot.\n",
        "\n",
        "As a first example, we would like the bot to respond, when the user types in `Hi`, with the response `Hello!`\n",
        "We do this using the `add_response()` function, as follows:"
      ]
    },
    {
      "cell_type": "code",
      "metadata": {
        "id": "m-CAX--ieffs"
      },
      "source": [
        "add_response('Hi', 'Hello!')"
      ],
      "execution_count": null,
      "outputs": []
    },
    {
      "cell_type": "markdown",
      "metadata": {
        "id": "UwVxkGc5h57I"
      },
      "source": [
        "So the way to add new patterns to the bot with `add_response` is very simple: we supply two strings inside the parentheses, where the first one is the pattern to be matched, and the second one is the response.\n",
        "Note that the both the pattern (`Hi`) and the response (`Hello!`) are strings in Python, and so we have to enclose them inside quote symbols.\n",
        "\n",
        "Now let's test the effects of our changes to the bot. We use the `converse()` function to hold a conversation with the bot in its current form.\n",
        "\n",
        "Run the cell below. When a prompt appears, you can type in text as a user, and receive replies from the chatbot. (Obviously, we have given it only one thing it can say so far, so the conversation will not go very far.)\n",
        "\n",
        "Once you have enjoyed typing in `Hi` and receiving the expected answer (you can do this over and over as many times as you like), you can **terminate the conversation** by typing in **`quit`**."
      ]
    },
    {
      "cell_type": "code",
      "metadata": {
        "colab": {
          "base_uri": "https://localhost:8080/"
        },
        "id": "Gm5pVyg_CiuX",
        "outputId": "a09078c1-aff5-446f-aa1d-c2126735fdd7"
      },
      "source": [
        "converse()"
      ],
      "execution_count": null,
      "outputs": [
        {
          "output_type": "stream",
          "text": [
            ">Hi\n",
            "Hello!\n",
            ">Hi\n",
            "Hello!\n",
            ">quit\n",
            "None\n"
          ],
          "name": "stdout"
        }
      ]
    },
    {
      "cell_type": "markdown",
      "metadata": {
        "id": "PMcMsJaTQePE"
      },
      "source": [
        "We can now continue to add patterns to the list of things that the chatbot knows about, by adding more calls to the `add_response` method:"
      ]
    },
    {
      "cell_type": "code",
      "metadata": {
        "id": "K8ThdFq7Qx7R"
      },
      "source": [
        "add_response('What is your favourite colour', 'Red')\n",
        "add_response('How old are you', 'I am brand new!')\n",
        "add_response('Are you a person or a bot', \"That's for me to know and you to find out\")"
      ],
      "execution_count": null,
      "outputs": []
    },
    {
      "cell_type": "markdown",
      "metadata": {
        "id": "7nMHgdLQSAyJ"
      },
      "source": [
        "Note in the third example above, when we want to use the single quote symbol inside the text (as in `That's`), we have to use double quotes around the string so that Python can read it correctly.\n",
        "\n",
        "And so we can keep on adding new things for the bot to say, by explicitly specifying the pattern and response each time. You can test this out by running the cell above, then testing the bot with `converse` below.\n",
        "\n",
        "Note that the response to the pattern `Hi` that we added above is still stored in the bot, so you can use that as well in your conversation."
      ]
    },
    {
      "cell_type": "code",
      "metadata": {
        "id": "ij-6g-LXTE9P"
      },
      "source": [
        "converse()"
      ],
      "execution_count": null,
      "outputs": []
    },
    {
      "cell_type": "markdown",
      "metadata": {
        "id": "dpqmAjQLh5zp"
      },
      "source": [
        "We can continue like this, each time adding one particular pattern that we expect the user might like to enter. Perhaps you will appreciate that this is a very labour-intensive way to create a chatbot. It is also difficult to make this very flexible.\n",
        "\n",
        "Chatbots that try to create the illusion of human-like conversation often use a variety of tricks to make it appear that they are responding intelligently to the user. For example, we may want the bot to look out for any input where the user says that they love something, for example:\n",
        "\n",
        "`USER: I love shopping for clothes.`\n",
        "\n",
        "`BOT: What do you love about it?`\n",
        "\n",
        "And most likely, the user will elaborate further, and believe that the bot has understood them. But note that this can be done by the simple pattern-and-response mechanism that we have used so far (i.e. by using `add_response`). It's not necessary for the program to actually understand what the user said.\n",
        "\n",
        "And we can repeat this trick for anything:\n",
        "\n",
        "`USER: I love pizza.`\n",
        "\n",
        "`BOT: What do you love about it?`\n",
        "\n",
        "But obviously, it would be tedious to think of everything the user can type in! It would be nice to be able to match to anything entered by the user that starts with the words `I love`, and give the same response. We could say we really want to match the abstract pattern `I love X`, where `X` stands for anything else that the user enters in the rest of the sentence.\n",
        "\n",
        "Luckily, we can do this with our chatbot. We use the special sequence of characters `(.*)` in the position in the pattern where we want to match any further text from the user, in this case the position directly after `I love `. We refer to this position in the pattern as a *matching group*.\n",
        "\n",
        "We use the following instruction:\n"
      ]
    },
    {
      "cell_type": "code",
      "metadata": {
        "id": "0StGY35XtLwK"
      },
      "source": [
        "add_response('I love (.*)', 'What do you love about it?')"
      ],
      "execution_count": null,
      "outputs": []
    },
    {
      "cell_type": "markdown",
      "metadata": {
        "id": "w2e9VmLtuPJg"
      },
      "source": [
        "Make sure that you understand how to read the line above. The pattern that has been added is `I love (.*)` - try to see where the beginning and ending quotes of the string are. And this pattern will match any sentence that the user types in that starts with `I love `.\n",
        "\n",
        "You can confirm that this works by using `converse`, and trying out some of the example inputs above."
      ]
    },
    {
      "cell_type": "code",
      "metadata": {
        "id": "frDhhLeltcaO"
      },
      "source": [
        "converse()"
      ],
      "execution_count": null,
      "outputs": []
    },
    {
      "cell_type": "markdown",
      "metadata": {
        "id": "9HrYo5l1ubhF"
      },
      "source": [
        "There is also another way of testing the bot, and that is using the `respond` function. All you have to do is supply the text that the user is entering:"
      ]
    },
    {
      "cell_type": "code",
      "metadata": {
        "id": "f9-R6rMjuqqk",
        "colab": {
          "base_uri": "https://localhost:8080/"
        },
        "outputId": "878fc1df-e70a-4a9a-cdaf-245bb3eec420"
      },
      "source": [
        "respond('I love you')"
      ],
      "execution_count": null,
      "outputs": [
        {
          "output_type": "stream",
          "text": [
            "What do you love about it?\n"
          ],
          "name": "stdout"
        }
      ]
    },
    {
      "cell_type": "markdown",
      "metadata": {
        "id": "RURaH8IWuy-0"
      },
      "source": [
        "If you just want to see the effect of a small change, `respond` may sometimes be easier to use than having a whole conversation with `converse`."
      ]
    },
    {
      "cell_type": "markdown",
      "metadata": {
        "id": "9pmXQlzEhLoR"
      },
      "source": [
        "####Why this works\n",
        "The reason why the `(.*)` sequence in the pattern above can match against any text, is that the patterns we provide to `add_response` are actually *regular expressions* in Python. Regular expressions are a kind of independent mini-language incorporated inside the Python language. They are used for the purpose of matching against strings, and by using the language skillfully, we can define fairly complicated groups of strings that all match a certain pattern.\n",
        "\n",
        "(We won't be looking into the details of regular expressions here. Readers who are interested in defining very sophisticated patterns for their chatbots, or who just want to extend their knowledge of Python, can read a very good introduction to regular expressions here:\n",
        "https://docs.python.org/3/howto/regex.html.)\n",
        "\n",
        "For our purposes, we just need to use two facts about regular expressions. One is that the pattern `(.*)` matches any sequence of characters, as shown before. The other is that in regular expressions, the following characters have a special meaning:\n",
        "\n",
        "` ^ $ * + ? { } [ ] \\ | ( )`\n",
        "\n",
        "This means that you cannot specify patterns where the user is expected to literally type in any of these characters, unless you take special additional steps (you can consult the link above to see how).\n"
      ]
    },
    {
      "cell_type": "markdown",
      "metadata": {
        "id": "v7ARkQymeDWw"
      },
      "source": [
        "###Reusing text from matching groups\n",
        "An even more satisfying illusion of human-level understanding can come from flexibly repeating parts of what the user has said.\n",
        "\n",
        "In ELIZA, there were rules that allowed the chatbot to identify user input containing the words `I forget`, and using the words that came next in its own reply. For example,\n",
        "`I forget their name` would lead to a reply randomly chosen from\n",
        "\n",
        "`Can you think of why you might forget their name?`,\n",
        "\n",
        "`Does it bother you that you forget their name?` or\n",
        "\n",
        "`Do you think you are suppressing their name?`.\n",
        "\n",
        "Again, the intention is to give the user the (false) impression that the chatbot is paying attention to what they have said, and asking a sensible follow-up question (and in this case, the follow-up questions even seem to insinuate a few assumptions based on the psychodynamic theories of Freud and other theorists).\n",
        "\n",
        "In order to do this in our chatbot, we need a way to identify the piece of text in the user's input that we would like to repeat in our output.\n",
        "\n",
        "We will first show how to achieve the first of the three example responses above with our chatbot, and then explain how it works. We can achieve the result using the following code:\n",
        "\n",
        "`add_response('I forget (.*)', 'Can you think of why you might forget %1 ?')`\n",
        "\n"
      ]
    },
    {
      "cell_type": "markdown",
      "metadata": {
        "id": "FiQ2pU94NdC_"
      },
      "source": [
        "As before, we have used our matching sequence `(.*)` to match against anything the user enters. But to achieve the trick of copying over the text that has matched against `(.*)`, we use a special reference in the response, of the form `%1`.\n",
        "\n",
        "The `%1` indicates that we want to use the piece of text that matched the first matching group in the pattern. (We can use the sequence `(.*)` more than once in a pattern, and in that case we might want to distinguish between the first, second, etc matching group in the pattern, by using `%1`, `%2` etc.)\n",
        "\n",
        "The text that was matched is then copied over directly into the response, replacing the `%1`.\n",
        "\n",
        "You can test whether the trick works by conversing with the bot below, as before, and entering inputs such as\n",
        "\n",
        "`I forget their name`\n",
        "\n",
        "`I forget why she said that`"
      ]
    },
    {
      "cell_type": "code",
      "metadata": {
        "id": "WswEtdJUNfpH"
      },
      "source": [
        "add_response('I forget (.*)', 'Can you think of why you might forget %1 ?')"
      ],
      "execution_count": null,
      "outputs": []
    },
    {
      "cell_type": "code",
      "metadata": {
        "id": "gn61oUrjdKAa",
        "colab": {
          "base_uri": "https://localhost:8080/"
        },
        "outputId": "8dd93cc4-5638-44b4-867c-59f696ae10ab"
      },
      "source": [
        "converse()"
      ],
      "execution_count": null,
      "outputs": [
        {
          "output_type": "stream",
          "text": [
            ">I forget myself\n",
            "Can you think of why you might forget myself ?\n",
            ">I forget their name\n",
            "Can you think of why you might forget their name ?\n",
            ">quit\n",
            "None\n"
          ],
          "name": "stdout"
        }
      ]
    },
    {
      "cell_type": "markdown",
      "metadata": {
        "id": "BXf3ANzESoLQ"
      },
      "source": [
        "An interesting extra capability of ELIZA, and also our chatbot, is that it can automatically 'reverse' certain pronouns, provided they have occurred in a matching group such as `(.*)`. If a matching group from the user's input contains for example the words `I`, `me` or `my`, they are automatically turned into `you` or `your` when they are repeated in the chatbot response. Run `converse` again in the cell above, and try the input\n",
        "\n",
        "`I forget why I went there`\n",
        "\n",
        "to see how this works."
      ]
    },
    {
      "cell_type": "markdown",
      "metadata": {
        "id": "nItulA_m_iLp"
      },
      "source": [
        "####Order of rules\n",
        "One important thing to keep in mind has to do with the order in which the pattern-response rules are added to the chatbot. When the program is processing input from the user, it tries to match the input against each of the patterns that it knows about, one by one, *in the order in which they were added* (using `add_response`).\n",
        "\n",
        "This means we have to be careful when we have multiple patterns, and some patterns are more specific than others. For example, suppose we wanted to respond to user statements like `I like X` with `Yeah, X is my favourite thing.`, but when the user is talking about doing something, by saying `I like to X`, then we want to respond with `I can't X at all.`\n",
        "In other words,\n",
        "\n",
        "`USER: I like pasta.`\n",
        "\n",
        "`BOT: Yeah, pasta is my favourite thing.`\n",
        "\n",
        "but\n",
        "\n",
        "`USER: I like to play video games.`\n",
        "\n",
        "`BOT: I can't play video games at all.`\n",
        "\n",
        "We can achieve the behaviour described above by adding the following rules:"
      ]
    },
    {
      "cell_type": "code",
      "metadata": {
        "id": "FhEnrJTa-aik"
      },
      "source": [
        "add_response('I like to (.*)', \"I can't %1 at all.\")\n",
        "add_response('I like (.*)', 'Yeah, %1 is my favourite thing.')"
      ],
      "execution_count": null,
      "outputs": []
    },
    {
      "cell_type": "markdown",
      "metadata": {
        "id": "kUHbWHufBmA3"
      },
      "source": [
        "But note that in this case, the pattern in the first rule (with the word `to`) is more specific than the pattern in the second rule. Consider what would happen if we specified the rules in the opposite order, so that the `to` rule came after the more general rule. Inputs like `I like to play video games` would match the more general pattern `I like (.*)` first, because it was defined earlier, and the chatbot would say `Yeah, to play video games is my favourite thing`, which is still a grammatically acceptable response, but not the behaviour we intended. The `to` rule would end up never being used.\n",
        "\n",
        "For this reason, we should take care to always place the more specific rule earlier in the order of definition than the more general rule."
      ]
    },
    {
      "cell_type": "markdown",
      "metadata": {
        "id": "5uFyc_d9eSvx"
      },
      "source": [
        "###Resetting the chatbot\n",
        "At any point while running the code cells in this notebook, you may wish to just start again from scratch with an 'empty' chatbot (for instance if you find that you have added rules in the wrong order). In this case, in any code cell, you can simply type in\n",
        "\n",
        "`reset()`\n",
        "\n",
        "and run the cell, in order to restart the chatbot with no conversational rules."
      ]
    },
    {
      "cell_type": "markdown",
      "metadata": {
        "id": "fxFpqPSwk8U3"
      },
      "source": [
        "###'Sandbox'\n",
        "The first of the two empty code cells below is there for you to experiment with adding your own pattern-response pairs to extend the capabilities of the chatbot. You can use `add_response` as many times as you like, or reset the chatbot with `reset`.\n",
        "\n",
        "The second cell can be used for testing the bot, using `converse` or `respond`."
      ]
    },
    {
      "cell_type": "code",
      "metadata": {
        "id": "E9bfrfUnlo6X"
      },
      "source": [
        "reset()"
      ],
      "execution_count": null,
      "outputs": []
    },
    {
      "cell_type": "code",
      "metadata": {
        "id": "uZwVQhDWlqBc"
      },
      "source": [
        "converse()\n"
      ],
      "execution_count": null,
      "outputs": []
    },
    {
      "cell_type": "markdown",
      "metadata": {
        "id": "zNZNuN9fij8Z"
      },
      "source": [
        "###Chatbots in NLTK\n",
        "The NLTK package also contains a few 'pre-made' chatbots. These were all programmed using the same underlying pattern-response mechanisms that we have been using in our own chatbot. Just for fun, you may want to try out having a conversation with some of these.\n",
        "\n",
        "You will notice one difference between these bots and ours: the chatbots in these implementations start the conversation, and also have the last word at the end when the user types `quit`."
      ]
    },
    {
      "cell_type": "markdown",
      "metadata": {
        "id": "59vnoD7ejlH7"
      },
      "source": [
        "#### ELIZA\n",
        "NLTK's implementation of the famous ELIZA bot. Run the cell to chat with her."
      ]
    },
    {
      "cell_type": "code",
      "metadata": {
        "id": "BtBEhsUFhO5K"
      },
      "source": [
        "nltk.chat.eliza.demo()"
      ],
      "execution_count": null,
      "outputs": []
    },
    {
      "cell_type": "markdown",
      "metadata": {
        "id": "2KFOUA6Dj71_"
      },
      "source": [
        "####IESHA\n",
        "From the documentation: 'This chatbot is a tongue-in-cheek take on the average teen anime junky that frequents YahooMessenger or MSNM. All spelling mistakes and flawed grammar are intentional.'"
      ]
    },
    {
      "cell_type": "code",
      "metadata": {
        "id": "s96ult-3gvKT"
      },
      "source": [
        "nltk.chat.iesha.demo()"
      ],
      "execution_count": null,
      "outputs": []
    },
    {
      "cell_type": "markdown",
      "metadata": {
        "id": "NF2vss50kS5Y"
      },
      "source": [
        "####SUNTSU\n",
        "Aphorisms from *The Art of War*."
      ]
    },
    {
      "cell_type": "code",
      "metadata": {
        "id": "-JaYGceNhuTK"
      },
      "source": [
        "nltk.chat.suntsu.demo()"
      ],
      "execution_count": null,
      "outputs": []
    },
    {
      "cell_type": "markdown",
      "metadata": {
        "id": "nkS0LnX4jyj3"
      },
      "source": [
        "####RUDE\n",
        "A bot that specializes in impolite conversation."
      ]
    },
    {
      "cell_type": "code",
      "metadata": {
        "id": "aVyG9GOLgVHi"
      },
      "source": [
        "nltk.chat.rude.demo()"
      ],
      "execution_count": null,
      "outputs": []
    },
    {
      "cell_type": "markdown",
      "metadata": {
        "id": "tZb37j3GkeO_"
      },
      "source": [
        "####ZEN\n",
        "'Gems of Zen wisdom'."
      ]
    },
    {
      "cell_type": "code",
      "metadata": {
        "id": "2BWl9QvviDSy"
      },
      "source": [
        "nltk.chat.zen.demo()"
      ],
      "execution_count": null,
      "outputs": []
    },
    {
      "cell_type": "markdown",
      "metadata": {
        "id": "lL83eyye0EO1"
      },
      "source": [
        "### Limitations\n",
        "The examples above show that we can create some interesting chatbots using only the NLTK framework. However, the framework is missing several capabilities that would allow us to make far more sophisticated bots.\n",
        "\n",
        "Consider also if we wanted to write a chatbot to perform a more serious function, for example providing individualised customer service, or making an online flight reservation. This kind of application would be practically impossible to achieve with the current framework.\n",
        "\n",
        "*Memorizing information*: There is no ability to remember information that the user has provided. For a practical application, we would need to remember things like the customer's name, their account number, the flight number and date for a flight reservation, etc. Even for a purely conversational bot, it is important to be able to incorporate facts about themselves that the user has disclosed.\n",
        "\n",
        "\n",
        "*Responding in context*: There is no ability to link a user's input back to the previous response from the bot. This is important, because the user is likely to be responding to what the bot has just said. Being able to interpret the user's words in the context of the prior conversational exchanges would hugely increase our ability to respond more intelligently in a conversational bot. In a practical application, this capability is even more important, as users would often be answering questions, e.g. \"Where are you flying to\". So being able to link a user's response to the question they have just been asked would be a prerequisite capability before we can achieve the memorization of information that we mentioned above.\n",
        "\n",
        "There are more sophisticated frameworks for developing chatbots. The Artificial Intelligence Markup Language (AIML), in particular, is a very popular platform, and provides the functionality mentioned above and more.  See http://www.aiml.foundation/ to find out more about AIML.\n",
        "\n",
        "More recently, many chatbots incorporate techniques from Machine Learning to help them understand the user's inputs, and to generate appropriate outputs on the fly. This is potentially a much more flexible way to generate a dialogue. This kind of technology is still in its infancy, and many systems instead combine machine learning with the rule-based approach we have followed here. A non-academic view from industry on the practical relationship between these approaches is set out in this article: https://towardsdatascience.com/why-does-ai-ml-considering-the-examples-of-chatbots-creation-20b1906274f8\n",
        "\n",
        "\n"
      ]
    },
    {
      "cell_type": "markdown",
      "metadata": {
        "id": "m9wKxcrkmARF"
      },
      "source": [
        "### Further Reading\n",
        "\n",
        "For the original paper by Turing describing for the first time the thought experiment that came to be known as the Turing Test, see the References below.\n",
        "\n",
        "For the paper by Weizenbaum setting out the tricks by which ELIZA achieved its effects, see the References.\n",
        "\n",
        "A very well-known example conversation with ELIZA, described in Weizenbaum (1966), can be found at this link: https://www.masswerk.at/elizabot/eliza_test.html.\n",
        "\n",
        "Other links on this website also demonstrate implementations of ELIZA, for example at https://www.masswerk.at/elizabot/, as well as JavaScript source code for the implementation. The site also contains a demonstration of two ELIZAs attempting to chat with each other...!\n",
        "\n",
        "Almost as famous as ELIZA was another bot, PARRY, developed by Kenneth Colby, which attempted to emulate the conversational style of a patient suffering from paranoid schizophrenia. Colby (1974, references below) considers criticisms in the scientific literature of the model implemented in PARRY.\n",
        "\n",
        "Several sessions were arranged over the years to let PARRY and ELIZA meet. The transcript of one such conversation can be found here: https://tools.ietf.org/html/rfc439.\n",
        "\n",
        "The annual Loebner Prize aims to reward efforts in human-like chatbot building. The author Brian Christian acted as one of the human 'confederates' in a Loebner contest. He describes his thoughts on the differences between human conversation and attempts to make human-like automated conversation, in this fascinating video https://www.youtube.com/watch?v=anMBmUS5yyo, and also in his book 'The Most Human Human'.\n",
        "\n",
        "See also the paper by David Powers (References) on how the Turing Test and Loebner Prize could be extended to include interaction with the physical world through sensory perception.\n"
      ]
    },
    {
      "cell_type": "markdown",
      "metadata": {
        "id": "fU_6fyYvmdRv"
      },
      "source": [
        "###References\n",
        "Christian, B. (2011). *The most human human*. Knopf Doubleday.\n",
        "\n",
        "Colby, K. M. (1974). Ten criticisms of PARRY. *ACM SIGART Bulletin*, *48*, 5-9.\n",
        "\n",
        "Powers, D. M. W. (1998). The Total Turing Test and the Loebner Prize. In *NeMLaP3/CoNLL '98: Proceedings of the Joint Conferences on New Methods in Language Processing and Computational Natural Language Learning*, 279-280.\n",
        "\n",
        "Turing, A. M. (1950). Computing machinery and intelligence. *Mind*, *59*(236), 433-460.\n",
        "\n",
        "Weizenbaum, J. (1966). ELIZA—a computer program for the study of natural language communication between man and machine. *Communications of the ACM*, *9*(1), 36-45."
      ]
    }
  ]
}